{
 "cells": [
  {
   "cell_type": "markdown",
   "id": "0e34c100",
   "metadata": {},
   "source": [
    "Factorial of a number"
   ]
  },
  {
   "cell_type": "code",
   "execution_count": 1,
   "id": "4f597c8a",
   "metadata": {},
   "outputs": [],
   "source": [
    "def fact(n):\n",
    "    factn = 1\n",
    "    for i in range(1,n+1):\n",
    "        factn*=i\n",
    "    return factn\n"
   ]
  },
  {
   "cell_type": "code",
   "execution_count": 2,
   "id": "c86960ca",
   "metadata": {},
   "outputs": [
    {
     "name": "stdout",
     "output_type": "stream",
     "text": [
      "7\n"
     ]
    }
   ],
   "source": [
    "n= int(input())"
   ]
  },
  {
   "cell_type": "code",
   "execution_count": 3,
   "id": "6200edef",
   "metadata": {},
   "outputs": [
    {
     "name": "stdout",
     "output_type": "stream",
     "text": [
      "5040\n"
     ]
    }
   ],
   "source": [
    "print(fact(n))"
   ]
  },
  {
   "cell_type": "markdown",
   "id": "c5961c16",
   "metadata": {},
   "source": [
    "checking whether a number is prime or composite"
   ]
  },
  {
   "cell_type": "code",
   "execution_count": 4,
   "id": "c78e2121",
   "metadata": {},
   "outputs": [
    {
     "name": "stdout",
     "output_type": "stream",
     "text": [
      "12\n"
     ]
    }
   ],
   "source": [
    "a=int(input())"
   ]
  },
  {
   "cell_type": "code",
   "execution_count": 5,
   "id": "3303ac00",
   "metadata": {},
   "outputs": [
    {
     "name": "stdout",
     "output_type": "stream",
     "text": [
      "12 is composite\n"
     ]
    }
   ],
   "source": [
    "from math import sqrt\n",
    "flag = True\n",
    "for i in range(2,a//2+1,):\n",
    "    if a%i==0:\n",
    "        flag= False\n",
    "        break\n",
    "if flag==True:\n",
    "    print(a,\"is prime\")\n",
    "else:\n",
    "    print(a,\"is composite\")"
   ]
  },
  {
   "cell_type": "markdown",
   "id": "aff49704",
   "metadata": {},
   "source": [
    "Pallindome\n"
   ]
  },
  {
   "cell_type": "code",
   "execution_count": 36,
   "id": "c973e927",
   "metadata": {},
   "outputs": [
    {
     "name": "stdout",
     "output_type": "stream",
     "text": [
      "abba\n",
      "abba abba\n",
      "it is a Pallindome\n"
     ]
    }
   ],
   "source": [
    "s=input()\n",
    "kt= s[::-1]\n",
    "print(s,kt)\n",
    "if s  == kt:\n",
    "    print(\"it is a Pallindome\")\n",
    "else:\n",
    "    print(\"it is not a Pallindrome\")"
   ]
  },
  {
   "cell_type": "code",
   "execution_count": 26,
   "id": "a2fb8043",
   "metadata": {},
   "outputs": [
    {
     "data": {
      "text/plain": [
       "'c'"
      ]
     },
     "execution_count": 26,
     "metadata": {},
     "output_type": "execute_result"
    }
   ],
   "source": [
    "x=\"abcd\"\n"
   ]
  },
  {
   "cell_type": "code",
   "execution_count": 19,
   "id": "0688e438",
   "metadata": {},
   "outputs": [],
   "source": [
    "for i in range(10,0):\n",
    "    print(i)"
   ]
  },
  {
   "cell_type": "code",
   "execution_count": 30,
   "id": "00ad518f",
   "metadata": {},
   "outputs": [],
   "source": [
    "k=10"
   ]
  },
  {
   "cell_type": "code",
   "execution_count": 31,
   "id": "326a7666",
   "metadata": {},
   "outputs": [
    {
     "data": {
      "text/plain": [
       "10"
      ]
     },
     "execution_count": 31,
     "metadata": {},
     "output_type": "execute_result"
    }
   ],
   "source": [
    "k\n"
   ]
  },
  {
   "cell_type": "code",
   "execution_count": 33,
   "id": "fecc991d",
   "metadata": {},
   "outputs": [
    {
     "data": {
      "text/plain": [
       "False"
      ]
     },
     "execution_count": 33,
     "metadata": {},
     "output_type": "execute_result"
    }
   ],
   "source": [
    "k==11"
   ]
  },
  {
   "cell_type": "markdown",
   "id": "4e76224e",
   "metadata": {},
   "source": [
    "get third side od Right angled triangle"
   ]
  },
  {
   "cell_type": "code",
   "execution_count": 38,
   "id": "b36213b5",
   "metadata": {},
   "outputs": [
    {
     "name": "stdout",
     "output_type": "stream",
     "text": [
      "3\n",
      "4\n",
      "length of hypotaneous:  5.0\n"
     ]
    }
   ],
   "source": [
    "from math import sqrt,pow\n",
    "base = float(input())\n",
    "height = float(input())\n",
    "hyp = sqrt(base**2+height**2)\n",
    "print(\"length of hypotaneous: \",hyp)"
   ]
  },
  {
   "cell_type": "markdown",
   "id": "f4b9fc35",
   "metadata": {},
   "source": [
    "Frequency of each charcter\n"
   ]
  },
  {
   "cell_type": "code",
   "execution_count": 48,
   "id": "9a5ab246",
   "metadata": {},
   "outputs": [
    {
     "name": "stdout",
     "output_type": "stream",
     "text": [
      "abnbdc\n",
      "{'b', 'd', 'a', 'n', 'c'}\n",
      "b 2\n",
      "d 1\n",
      "a 1\n",
      "n 1\n",
      "c 1\n"
     ]
    }
   ],
   "source": [
    "s=input()\n",
    "\n",
    "x=set(s)\n",
    "print(x)\n",
    "for i in x:\n",
    "    print(i,s.count(i))"
   ]
  },
  {
   "cell_type": "code",
   "execution_count": null,
   "id": "7995f399",
   "metadata": {},
   "outputs": [],
   "source": []
  }
 ],
 "metadata": {
  "kernelspec": {
   "display_name": "Python 3",
   "language": "python",
   "name": "python3"
  },
  "language_info": {
   "codemirror_mode": {
    "name": "ipython",
    "version": 3
   },
   "file_extension": ".py",
   "mimetype": "text/x-python",
   "name": "python",
   "nbconvert_exporter": "python",
   "pygments_lexer": "ipython3",
   "version": "3.8.8"
  }
 },
 "nbformat": 4,
 "nbformat_minor": 5
}
