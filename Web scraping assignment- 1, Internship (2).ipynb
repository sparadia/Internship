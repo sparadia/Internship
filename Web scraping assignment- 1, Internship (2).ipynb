{
 "cells": [
  {
   "cell_type": "code",
   "execution_count": 1,
   "id": "f2b9144a",
   "metadata": {},
   "outputs": [],
   "source": [
    "import bs4\n",
    "import requests\n",
    "from bs4 import BeautifulSoup\n",
    "import pandas as pd\n"
   ]
  },
  {
   "cell_type": "markdown",
   "id": "bd47aeb1",
   "metadata": {},
   "source": [
    "Solution 1"
   ]
  },
  {
   "cell_type": "code",
   "execution_count": 2,
   "id": "d7929627",
   "metadata": {},
   "outputs": [],
   "source": [
    "page = requests.get(\"https://en.wikipedia.org/wiki/Main_Page\")"
   ]
  },
  {
   "cell_type": "code",
   "execution_count": 3,
   "id": "ce937953",
   "metadata": {},
   "outputs": [
    {
     "data": {
      "text/plain": [
       "['h1 Main Page',\n",
       " 'h1 Welcome to Wikipedia',\n",
       " \"h2 From today's featured article\",\n",
       " 'h2 Did you know\\xa0...',\n",
       " 'h2 In the news',\n",
       " 'h2 On this day',\n",
       " \"h2 Today's featured picture\",\n",
       " 'h2 Other areas of Wikipedia',\n",
       " \"h2 Wikipedia's sister projects\",\n",
       " 'h2 Wikipedia languages',\n",
       " 'h2 Navigation menu',\n",
       " 'h3 Search']"
      ]
     },
     "execution_count": 3,
     "metadata": {},
     "output_type": "execute_result"
    }
   ],
   "source": [
    "soup=BeautifulSoup(page.content)\n",
    "\n",
    "header_tags = []\n",
    "\n",
    "for header in soup.find_all([\"h1\",\"h2\",\"h3\",\"h4\",\"h5\",\"h6\"]):\n",
    "    header_tags.append(header.name+\" \"+header.text.strip())\n",
    "header_tags\n"
   ]
  },
  {
   "cell_type": "markdown",
   "id": "cc61f13a",
   "metadata": {},
   "source": [
    "Solution 2"
   ]
  },
  {
   "cell_type": "code",
   "execution_count": 4,
   "id": "b64234ee",
   "metadata": {},
   "outputs": [],
   "source": [
    "page2 = requests.get('https://www.imdb.com/list/ls091520106/')\n"
   ]
  },
  {
   "cell_type": "code",
   "execution_count": 5,
   "id": "979aaaa7",
   "metadata": {},
   "outputs": [],
   "source": [
    "soup2 = BeautifulSoup(page2.content)"
   ]
  },
  {
   "cell_type": "code",
   "execution_count": 6,
   "id": "5f4ec7b7",
   "metadata": {},
   "outputs": [],
   "source": [
    "name = soup2.find_all(\"h3\", class_=\"lister-item-header\")\n",
    "movies_name = [] \n",
    "for i in name:\n",
    "    for j in i.find_all(\"a\"):\n",
    "        movies_name.append(j.text)\n"
   ]
  },
  {
   "cell_type": "code",
   "execution_count": 7,
   "id": "c55cb4f4",
   "metadata": {},
   "outputs": [],
   "source": [
    "year = soup2.find_all(\"span\",class_=\"lister-item-year text-muted unbold\")\n",
    "year_of_release = [] \n",
    "for k in year:\n",
    "    year_of_release.append(k.text)\n"
   ]
  },
  {
   "cell_type": "code",
   "execution_count": 8,
   "id": "622631c7",
   "metadata": {},
   "outputs": [],
   "source": [
    "rating = soup2.find_all(\"div\",class_=\"ipl-rating-star small\")\n",
    "\n",
    "IMDB_rating = []\n",
    "\n",
    "for i in rating:\n",
    "      IMDB_rating.append(float(i.text))"
   ]
  },
  {
   "cell_type": "code",
   "execution_count": 9,
   "id": "7990ae18",
   "metadata": {},
   "outputs": [
    {
     "data": {
      "text/html": [
       "<div>\n",
       "<style scoped>\n",
       "    .dataframe tbody tr th:only-of-type {\n",
       "        vertical-align: middle;\n",
       "    }\n",
       "\n",
       "    .dataframe tbody tr th {\n",
       "        vertical-align: top;\n",
       "    }\n",
       "\n",
       "    .dataframe thead th {\n",
       "        text-align: right;\n",
       "    }\n",
       "</style>\n",
       "<table border=\"1\" class=\"dataframe\">\n",
       "  <thead>\n",
       "    <tr style=\"text-align: right;\">\n",
       "      <th></th>\n",
       "      <th>Movie Name</th>\n",
       "      <th>Year</th>\n",
       "      <th>Rating</th>\n",
       "    </tr>\n",
       "  </thead>\n",
       "  <tbody>\n",
       "    <tr>\n",
       "      <th>0</th>\n",
       "      <td>The Shawshank Redemption</td>\n",
       "      <td>(1994)</td>\n",
       "      <td>9.3</td>\n",
       "    </tr>\n",
       "    <tr>\n",
       "      <th>1</th>\n",
       "      <td>The Godfather</td>\n",
       "      <td>(1972)</td>\n",
       "      <td>9.2</td>\n",
       "    </tr>\n",
       "    <tr>\n",
       "      <th>2</th>\n",
       "      <td>The Godfather: Part II</td>\n",
       "      <td>(1974)</td>\n",
       "      <td>9.0</td>\n",
       "    </tr>\n",
       "    <tr>\n",
       "      <th>3</th>\n",
       "      <td>The Dark Knight</td>\n",
       "      <td>(2008)</td>\n",
       "      <td>9.1</td>\n",
       "    </tr>\n",
       "    <tr>\n",
       "      <th>4</th>\n",
       "      <td>12 Angry Men</td>\n",
       "      <td>(1957)</td>\n",
       "      <td>9.0</td>\n",
       "    </tr>\n",
       "    <tr>\n",
       "      <th>...</th>\n",
       "      <td>...</td>\n",
       "      <td>...</td>\n",
       "      <td>...</td>\n",
       "    </tr>\n",
       "    <tr>\n",
       "      <th>95</th>\n",
       "      <td>North by Northwest</td>\n",
       "      <td>(1959)</td>\n",
       "      <td>8.3</td>\n",
       "    </tr>\n",
       "    <tr>\n",
       "      <th>96</th>\n",
       "      <td>A Clockwork Orange</td>\n",
       "      <td>(1971)</td>\n",
       "      <td>8.3</td>\n",
       "    </tr>\n",
       "    <tr>\n",
       "      <th>97</th>\n",
       "      <td>Snatch</td>\n",
       "      <td>(2000)</td>\n",
       "      <td>8.3</td>\n",
       "    </tr>\n",
       "    <tr>\n",
       "      <th>98</th>\n",
       "      <td>Le fabuleux destin d'Amélie Poulain</td>\n",
       "      <td>(2001)</td>\n",
       "      <td>8.3</td>\n",
       "    </tr>\n",
       "    <tr>\n",
       "      <th>99</th>\n",
       "      <td>The Kid</td>\n",
       "      <td>(1921)</td>\n",
       "      <td>8.3</td>\n",
       "    </tr>\n",
       "  </tbody>\n",
       "</table>\n",
       "<p>100 rows × 3 columns</p>\n",
       "</div>"
      ],
      "text/plain": [
       "                             Movie Name    Year  Rating\n",
       "0              The Shawshank Redemption  (1994)     9.3\n",
       "1                         The Godfather  (1972)     9.2\n",
       "2                The Godfather: Part II  (1974)     9.0\n",
       "3                       The Dark Knight  (2008)     9.1\n",
       "4                          12 Angry Men  (1957)     9.0\n",
       "..                                  ...     ...     ...\n",
       "95                   North by Northwest  (1959)     8.3\n",
       "96                   A Clockwork Orange  (1971)     8.3\n",
       "97                               Snatch  (2000)     8.3\n",
       "98  Le fabuleux destin d'Amélie Poulain  (2001)     8.3\n",
       "99                              The Kid  (1921)     8.3\n",
       "\n",
       "[100 rows x 3 columns]"
      ]
     },
     "execution_count": 9,
     "metadata": {},
     "output_type": "execute_result"
    }
   ],
   "source": [
    "df2 = pd.DataFrame({'Movie Name':movies_name, 'Year':year_of_release, 'Rating':IMDB_rating})\n",
    "df2"
   ]
  },
  {
   "cell_type": "markdown",
   "id": "5bc37e86",
   "metadata": {},
   "source": [
    "Solution 3"
   ]
  },
  {
   "cell_type": "code",
   "execution_count": 10,
   "id": "3bd1fc2e",
   "metadata": {},
   "outputs": [],
   "source": [
    "page3 = requests.get('https://www.imdb.com/list/ls009997493/')\n"
   ]
  },
  {
   "cell_type": "code",
   "execution_count": 11,
   "id": "56502b50",
   "metadata": {},
   "outputs": [],
   "source": [
    "soup3 = BeautifulSoup(page3.content)\n"
   ]
  },
  {
   "cell_type": "code",
   "execution_count": 12,
   "id": "13febc1a",
   "metadata": {},
   "outputs": [],
   "source": [
    "name = soup3.find_all(\"h3\", class_=\"lister-item-header\")\n",
    "movies_name = []\n",
    "for i in name:\n",
    "    for j in i.find_all(\"a\"):\n",
    "        movies_name.append(j.text)\n"
   ]
  },
  {
   "cell_type": "code",
   "execution_count": 13,
   "id": "dbdfdb94",
   "metadata": {},
   "outputs": [],
   "source": [
    "year = soup3.find_all(\"span\",class_=\"lister-item-year text-muted unbold\")\n",
    "year_of_release = []\n",
    "for k in year:\n",
    "    year_of_release.append(k.text)\n"
   ]
  },
  {
   "cell_type": "code",
   "execution_count": 14,
   "id": "c008715c",
   "metadata": {},
   "outputs": [],
   "source": [
    "rating = soup3.find_all(\"div\",class_=\"ipl-rating-star small\")\n",
    "IMDB_rating = []\n",
    "for i in rating:\n",
    "      IMDB_rating.append(float(i.text))\n",
    "        "
   ]
  },
  {
   "cell_type": "code",
   "execution_count": 15,
   "id": "80b6dd55",
   "metadata": {},
   "outputs": [
    {
     "data": {
      "text/html": [
       "<div>\n",
       "<style scoped>\n",
       "    .dataframe tbody tr th:only-of-type {\n",
       "        vertical-align: middle;\n",
       "    }\n",
       "\n",
       "    .dataframe tbody tr th {\n",
       "        vertical-align: top;\n",
       "    }\n",
       "\n",
       "    .dataframe thead th {\n",
       "        text-align: right;\n",
       "    }\n",
       "</style>\n",
       "<table border=\"1\" class=\"dataframe\">\n",
       "  <thead>\n",
       "    <tr style=\"text-align: right;\">\n",
       "      <th></th>\n",
       "      <th>Movie Name</th>\n",
       "      <th>Year</th>\n",
       "      <th>Rating</th>\n",
       "    </tr>\n",
       "  </thead>\n",
       "  <tbody>\n",
       "    <tr>\n",
       "      <th>0</th>\n",
       "      <td>Rang De Basanti</td>\n",
       "      <td>(2006)</td>\n",
       "      <td>8.1</td>\n",
       "    </tr>\n",
       "    <tr>\n",
       "      <th>1</th>\n",
       "      <td>3 Idiots</td>\n",
       "      <td>(2009)</td>\n",
       "      <td>8.5</td>\n",
       "    </tr>\n",
       "    <tr>\n",
       "      <th>2</th>\n",
       "      <td>Taare Zameen Par</td>\n",
       "      <td>(2007)</td>\n",
       "      <td>8.4</td>\n",
       "    </tr>\n",
       "    <tr>\n",
       "      <th>3</th>\n",
       "      <td>Dil Chahta Hai</td>\n",
       "      <td>(2001)</td>\n",
       "      <td>8.1</td>\n",
       "    </tr>\n",
       "    <tr>\n",
       "      <th>4</th>\n",
       "      <td>Swades: We, the People</td>\n",
       "      <td>(2004)</td>\n",
       "      <td>8.3</td>\n",
       "    </tr>\n",
       "    <tr>\n",
       "      <th>...</th>\n",
       "      <td>...</td>\n",
       "      <td>...</td>\n",
       "      <td>...</td>\n",
       "    </tr>\n",
       "    <tr>\n",
       "      <th>95</th>\n",
       "      <td>Wake Up Sid</td>\n",
       "      <td>(2009)</td>\n",
       "      <td>7.6</td>\n",
       "    </tr>\n",
       "    <tr>\n",
       "      <th>96</th>\n",
       "      <td>Rangeela</td>\n",
       "      <td>(1995)</td>\n",
       "      <td>7.4</td>\n",
       "    </tr>\n",
       "    <tr>\n",
       "      <th>97</th>\n",
       "      <td>Shatranj Ke Khilari</td>\n",
       "      <td>(1977)</td>\n",
       "      <td>7.5</td>\n",
       "    </tr>\n",
       "    <tr>\n",
       "      <th>98</th>\n",
       "      <td>Pyaar Ka Punchnama</td>\n",
       "      <td>(2011)</td>\n",
       "      <td>7.7</td>\n",
       "    </tr>\n",
       "    <tr>\n",
       "      <th>99</th>\n",
       "      <td>Ek Hasina Thi</td>\n",
       "      <td>(2004)</td>\n",
       "      <td>7.5</td>\n",
       "    </tr>\n",
       "  </tbody>\n",
       "</table>\n",
       "<p>100 rows × 3 columns</p>\n",
       "</div>"
      ],
      "text/plain": [
       "                Movie Name    Year  Rating\n",
       "0          Rang De Basanti  (2006)     8.1\n",
       "1                 3 Idiots  (2009)     8.5\n",
       "2         Taare Zameen Par  (2007)     8.4\n",
       "3           Dil Chahta Hai  (2001)     8.1\n",
       "4   Swades: We, the People  (2004)     8.3\n",
       "..                     ...     ...     ...\n",
       "95             Wake Up Sid  (2009)     7.6\n",
       "96                Rangeela  (1995)     7.4\n",
       "97     Shatranj Ke Khilari  (1977)     7.5\n",
       "98      Pyaar Ka Punchnama  (2011)     7.7\n",
       "99           Ek Hasina Thi  (2004)     7.5\n",
       "\n",
       "[100 rows x 3 columns]"
      ]
     },
     "execution_count": 15,
     "metadata": {},
     "output_type": "execute_result"
    }
   ],
   "source": [
    "df3 = pd.DataFrame({'Movie Name':movies_name, 'Year':year_of_release, 'Rating':IMDB_rating})\n",
    "df3\n"
   ]
  },
  {
   "cell_type": "markdown",
   "id": "c32e507d",
   "metadata": {},
   "source": [
    "Solution 4"
   ]
  },
  {
   "cell_type": "code",
   "execution_count": 2,
   "id": "47781350",
   "metadata": {},
   "outputs": [
    {
     "data": {
      "text/html": [
       "<div>\n",
       "<style scoped>\n",
       "    .dataframe tbody tr th:only-of-type {\n",
       "        vertical-align: middle;\n",
       "    }\n",
       "\n",
       "    .dataframe tbody tr th {\n",
       "        vertical-align: top;\n",
       "    }\n",
       "\n",
       "    .dataframe thead th {\n",
       "        text-align: right;\n",
       "    }\n",
       "</style>\n",
       "<table border=\"1\" class=\"dataframe\">\n",
       "  <thead>\n",
       "    <tr style=\"text-align: right;\">\n",
       "      <th></th>\n",
       "      <th>product Name</th>\n",
       "      <th>Price</th>\n",
       "      <th>Discount Prices</th>\n",
       "    </tr>\n",
       "  </thead>\n",
       "  <tbody>\n",
       "  </tbody>\n",
       "</table>\n",
       "</div>"
      ],
      "text/plain": [
       "Empty DataFrame\n",
       "Columns: [product Name, Price, Discount Prices]\n",
       "Index: []"
      ]
     },
     "execution_count": 2,
     "metadata": {},
     "output_type": "execute_result"
    }
   ],
   "source": [
    "import requests\n",
    "from bs4 import BeautifulSoup \n",
    "import pandas as pd\n",
    "\n",
    "url='https://meesho.com/bags-ladies/pl/p7vbp'\n",
    "page=requests.get(url)\n",
    "soup=BeautifulSoup(page.content)\n",
    "product_name=[]\n",
    "for i in soup.find_all('p', class_=\"Text__StyledText-sc-oo0kvp-0 bWSOET NewProductCard__ProductTitle_Desktop-sc-j0e7tu-4 cQhePS NewProductCard__ProductTitle_Desktop-sc-j0e7tu-4 cQhePS\"):\n",
    "    product_name.append(i.text)\n",
    "    \n",
    "#product_name\n",
    "prices=[]\n",
    "for j in soup.find_all('h5', class_=\"Text__StyledText-sc-oo0kvp-0 hiHdyy\"):\n",
    "    prices.append(j.text)\n",
    "    \n",
    "#prices\n",
    "discount_prices=[]\n",
    "for k in soup.find_all('p', class_=\"Text__StyledText-sc-oo0kvp-0 fCJVtz NewProductCard__DiscountTextParagraph-sc-j0e7tu-16 kmYsnm NewProductCard__DiscountTextParagraph-sc-j0e7tu-16 kmYsnm\"):\n",
    "    discount_prices.append(k.text)\n",
    "#discount_prices\n",
    "\n",
    "\n",
    "df=pd.DataFrame({'product Name': product_name, 'Price' :prices, 'Discount Prices': discount_prices})\n",
    "df"
   ]
  },
  {
   "cell_type": "markdown",
   "id": "e43dd389",
   "metadata": {},
   "source": [
    "Solution 5 "
   ]
  },
  {
   "cell_type": "code",
   "execution_count": 3,
   "id": "b16794f5",
   "metadata": {},
   "outputs": [],
   "source": [
    "page5 = requests.get('https://www.icc-cricket.com/rankings/mens/team-rankings/odi')\n"
   ]
  },
  {
   "cell_type": "code",
   "execution_count": 29,
   "id": "aa2e88ce",
   "metadata": {},
   "outputs": [],
   "source": [
    "soup5 = BeautifulSoup(page5.content)\n"
   ]
  },
  {
   "cell_type": "code",
   "execution_count": 30,
   "id": "706170da",
   "metadata": {},
   "outputs": [],
   "source": [
    "team = soup5.find_all(\"span\",class_='u-hide-phablet')\n",
    "team_name = []\n",
    "for i in team:\n",
    "    team_name.append(i.text)\n"
   ]
  },
  {
   "cell_type": "code",
   "execution_count": 31,
   "id": "37e641a2",
   "metadata": {},
   "outputs": [],
   "source": [
    "matches = []\n",
    "points = []\n",
    "ratings = []\n",
    "new_list = []\n"
   ]
  },
  {
   "cell_type": "code",
   "execution_count": 32,
   "id": "64e67134",
   "metadata": {},
   "outputs": [],
   "source": [
    "for i in soup5.find_all(\"td\",class_='rankings-block__banner--matches'):\n",
    "    matches.append(i.text)"
   ]
  },
  {
   "cell_type": "code",
   "execution_count": 33,
   "id": "8ca29295",
   "metadata": {},
   "outputs": [],
   "source": [
    "for i in soup5.find_all(\"td\",class_='rankings-block__banner--points'):\n",
    "    points.append(i.text)"
   ]
  },
  {
   "cell_type": "code",
   "execution_count": 34,
   "id": "5d13fe4a",
   "metadata": {},
   "outputs": [],
   "source": [
    "for i in soup5.find_all(\"td\",class_='rankings-block__banner--rating u-text-right'):\n",
    "    ratings.append(i.text.replace(\"\\n\",\"\"))"
   ]
  },
  {
   "cell_type": "code",
   "execution_count": 35,
   "id": "0bd3c8b6",
   "metadata": {},
   "outputs": [],
   "source": [
    "for i in soup5.find_all(\"td\",class_='table-body__cell u-center-text'):\n",
    "    new_list.append(i.text)"
   ]
  },
  {
   "cell_type": "code",
   "execution_count": 36,
   "id": "2af06da4",
   "metadata": {},
   "outputs": [],
   "source": [
    "for i in range(0,len(new_list)-1,2):\n",
    "    matches.append(new_list[i])\n",
    "    points.append(new_list[i+1])"
   ]
  },
  {
   "cell_type": "code",
   "execution_count": 37,
   "id": "4bd56946",
   "metadata": {},
   "outputs": [],
   "source": [
    "for i in soup5.find_all(\"td\",class_='table-body__cell u-text-right rating'):\n",
    "    ratings.append(i.text)"
   ]
  },
  {
   "cell_type": "code",
   "execution_count": 38,
   "id": "bf4852bc",
   "metadata": {},
   "outputs": [
    {
     "data": {
      "text/html": [
       "<div>\n",
       "<style scoped>\n",
       "    .dataframe tbody tr th:only-of-type {\n",
       "        vertical-align: middle;\n",
       "    }\n",
       "\n",
       "    .dataframe tbody tr th {\n",
       "        vertical-align: top;\n",
       "    }\n",
       "\n",
       "    .dataframe thead th {\n",
       "        text-align: right;\n",
       "    }\n",
       "</style>\n",
       "<table border=\"1\" class=\"dataframe\">\n",
       "  <thead>\n",
       "    <tr style=\"text-align: right;\">\n",
       "      <th></th>\n",
       "      <th>Team_name</th>\n",
       "      <th>Matches</th>\n",
       "      <th>Points</th>\n",
       "      <th>Ratings</th>\n",
       "    </tr>\n",
       "  </thead>\n",
       "  <tbody>\n",
       "    <tr>\n",
       "      <th>0</th>\n",
       "      <td>New Zealand</td>\n",
       "      <td>18</td>\n",
       "      <td>2,185</td>\n",
       "      <td>121               ...</td>\n",
       "    </tr>\n",
       "    <tr>\n",
       "      <th>1</th>\n",
       "      <td>England</td>\n",
       "      <td>32</td>\n",
       "      <td>3,793</td>\n",
       "      <td>119</td>\n",
       "    </tr>\n",
       "    <tr>\n",
       "      <th>2</th>\n",
       "      <td>Australia</td>\n",
       "      <td>29</td>\n",
       "      <td>3,387</td>\n",
       "      <td>117</td>\n",
       "    </tr>\n",
       "    <tr>\n",
       "      <th>3</th>\n",
       "      <td>India</td>\n",
       "      <td>38</td>\n",
       "      <td>4,162</td>\n",
       "      <td>110</td>\n",
       "    </tr>\n",
       "    <tr>\n",
       "      <th>4</th>\n",
       "      <td>South Africa</td>\n",
       "      <td>31</td>\n",
       "      <td>3,167</td>\n",
       "      <td>102</td>\n",
       "    </tr>\n",
       "    <tr>\n",
       "      <th>5</th>\n",
       "      <td>Bangladesh</td>\n",
       "      <td>36</td>\n",
       "      <td>3,350</td>\n",
       "      <td>93</td>\n",
       "    </tr>\n",
       "    <tr>\n",
       "      <th>6</th>\n",
       "      <td>Pakistan</td>\n",
       "      <td>28</td>\n",
       "      <td>2,590</td>\n",
       "      <td>93</td>\n",
       "    </tr>\n",
       "    <tr>\n",
       "      <th>7</th>\n",
       "      <td>Sri Lanka</td>\n",
       "      <td>35</td>\n",
       "      <td>2,835</td>\n",
       "      <td>81</td>\n",
       "    </tr>\n",
       "    <tr>\n",
       "      <th>8</th>\n",
       "      <td>West Indies</td>\n",
       "      <td>36</td>\n",
       "      <td>2,788</td>\n",
       "      <td>77</td>\n",
       "    </tr>\n",
       "    <tr>\n",
       "      <th>9</th>\n",
       "      <td>Afghanistan</td>\n",
       "      <td>23</td>\n",
       "      <td>1,562</td>\n",
       "      <td>68</td>\n",
       "    </tr>\n",
       "  </tbody>\n",
       "</table>\n",
       "</div>"
      ],
      "text/plain": [
       "      Team_name Matches Points  \\\n",
       "0   New Zealand      18  2,185   \n",
       "1       England      32  3,793   \n",
       "2     Australia      29  3,387   \n",
       "3         India      38  4,162   \n",
       "4  South Africa      31  3,167   \n",
       "5    Bangladesh      36  3,350   \n",
       "6      Pakistan      28  2,590   \n",
       "7     Sri Lanka      35  2,835   \n",
       "8   West Indies      36  2,788   \n",
       "9   Afghanistan      23  1,562   \n",
       "\n",
       "                                             Ratings  \n",
       "0                              121               ...  \n",
       "1                                                119  \n",
       "2                                                117  \n",
       "3                                                110  \n",
       "4                                                102  \n",
       "5                                                 93  \n",
       "6                                                 93  \n",
       "7                                                 81  \n",
       "8                                                 77  \n",
       "9                                                 68  "
      ]
     },
     "execution_count": 38,
     "metadata": {},
     "output_type": "execute_result"
    }
   ],
   "source": [
    "icc=pd.DataFrame({})\n",
    "icc['Team_name']=team_name[:10]\n",
    "icc['Matches']=matches[:10]\n",
    "icc['Points']=points[:10]\n",
    "icc['Ratings']=ratings[:10]\n",
    "icc"
   ]
  },
  {
   "cell_type": "code",
   "execution_count": 39,
   "id": "b71b30d6",
   "metadata": {},
   "outputs": [],
   "source": [
    "page6 = requests.get('https://www.icc-cricket.com/rankings/mens/player-rankings/odi/batting')\n"
   ]
  },
  {
   "cell_type": "code",
   "execution_count": 40,
   "id": "ce17da2d",
   "metadata": {},
   "outputs": [],
   "source": [
    "soup6 = BeautifulSoup(page6.content)\n"
   ]
  },
  {
   "cell_type": "code",
   "execution_count": 41,
   "id": "aac66b6b",
   "metadata": {},
   "outputs": [],
   "source": [
    "players = []\n",
    "team_name = []\n",
    "rating = []\n"
   ]
  },
  {
   "cell_type": "code",
   "execution_count": 42,
   "id": "de1acc44",
   "metadata": {},
   "outputs": [],
   "source": [
    "for i in soup6.find_all(\"div\",class_='rankings-block__banner--name-large'):\n",
    "    players.append(i.text)\n",
    "for i in soup6.find_all(\"div\",class_='rankings-block__banner--nationality'):\n",
    "    team_name.append(i.text.replace(\"\\n\",\"\"))\n",
    "for i in soup6.find_all(\"div\",class_='rankings-block__banner--rating'):\n",
    "    rating.append(i.text)\n",
    "for i in soup6.find_all(\"td\",class_='table-body__cell rankings-table__name name'):\n",
    "    for j in i.find_all('a'):\n",
    "        players.append(j.text)\n",
    "for i in soup6.find_all(\"span\",class_='table-body__logo-text'):\n",
    "    team_name.append(i.text)\n",
    "for i in soup6.find_all(\"td\",class_='table-body__cell rating'):\n",
    "    rating.append(i.text)\n"
   ]
  },
  {
   "cell_type": "code",
   "execution_count": 43,
   "id": "036f353d",
   "metadata": {},
   "outputs": [
    {
     "data": {
      "text/html": [
       "<div>\n",
       "<style scoped>\n",
       "    .dataframe tbody tr th:only-of-type {\n",
       "        vertical-align: middle;\n",
       "    }\n",
       "\n",
       "    .dataframe tbody tr th {\n",
       "        vertical-align: top;\n",
       "    }\n",
       "\n",
       "    .dataframe thead th {\n",
       "        text-align: right;\n",
       "    }\n",
       "</style>\n",
       "<table border=\"1\" class=\"dataframe\">\n",
       "  <thead>\n",
       "    <tr style=\"text-align: right;\">\n",
       "      <th></th>\n",
       "      <th>Player</th>\n",
       "      <th>Team</th>\n",
       "      <th>Rating</th>\n",
       "    </tr>\n",
       "  </thead>\n",
       "  <tbody>\n",
       "    <tr>\n",
       "      <th>0</th>\n",
       "      <td>Babar Azam</td>\n",
       "      <td>PAK</td>\n",
       "      <td>872</td>\n",
       "    </tr>\n",
       "    <tr>\n",
       "      <th>1</th>\n",
       "      <td>Virat Kohli</td>\n",
       "      <td>IND</td>\n",
       "      <td>811</td>\n",
       "    </tr>\n",
       "    <tr>\n",
       "      <th>2</th>\n",
       "      <td>Ross Taylor</td>\n",
       "      <td>NZ</td>\n",
       "      <td>794</td>\n",
       "    </tr>\n",
       "    <tr>\n",
       "      <th>3</th>\n",
       "      <td>Rohit Sharma</td>\n",
       "      <td>IND</td>\n",
       "      <td>791</td>\n",
       "    </tr>\n",
       "    <tr>\n",
       "      <th>4</th>\n",
       "      <td>Quinton de Kock</td>\n",
       "      <td>SA</td>\n",
       "      <td>789</td>\n",
       "    </tr>\n",
       "    <tr>\n",
       "      <th>5</th>\n",
       "      <td>Jonny Bairstow</td>\n",
       "      <td>ENG</td>\n",
       "      <td>775</td>\n",
       "    </tr>\n",
       "    <tr>\n",
       "      <th>6</th>\n",
       "      <td>Aaron Finch</td>\n",
       "      <td>AUS</td>\n",
       "      <td>771</td>\n",
       "    </tr>\n",
       "    <tr>\n",
       "      <th>7</th>\n",
       "      <td>Rassie van der Dussen</td>\n",
       "      <td>SA</td>\n",
       "      <td>769</td>\n",
       "    </tr>\n",
       "    <tr>\n",
       "      <th>8</th>\n",
       "      <td>David Warner</td>\n",
       "      <td>AUS</td>\n",
       "      <td>758</td>\n",
       "    </tr>\n",
       "    <tr>\n",
       "      <th>9</th>\n",
       "      <td>Imam-ul-Haq</td>\n",
       "      <td>PAK</td>\n",
       "      <td>746</td>\n",
       "    </tr>\n",
       "  </tbody>\n",
       "</table>\n",
       "</div>"
      ],
      "text/plain": [
       "                  Player                     Team Rating\n",
       "0             Babar Azam  PAK                        872\n",
       "1            Virat Kohli                      IND    811\n",
       "2            Ross Taylor                       NZ    794\n",
       "3           Rohit Sharma                      IND    791\n",
       "4        Quinton de Kock                       SA    789\n",
       "5         Jonny Bairstow                      ENG    775\n",
       "6            Aaron Finch                      AUS    771\n",
       "7  Rassie van der Dussen                       SA    769\n",
       "8           David Warner                      AUS    758\n",
       "9            Imam-ul-Haq                      PAK    746"
      ]
     },
     "execution_count": 43,
     "metadata": {},
     "output_type": "execute_result"
    }
   ],
   "source": [
    "Batsmen=pd.DataFrame({})\n",
    "Batsmen['Player']=players[:10]\n",
    "Batsmen['Team']=team_name[:10]\n",
    "Batsmen['Rating']=rating[:10]\n",
    "Batsmen"
   ]
  },
  {
   "cell_type": "code",
   "execution_count": 44,
   "id": "144317f3",
   "metadata": {},
   "outputs": [],
   "source": [
    "page7 = requests.get('https://www.icc-cricket.com/rankings/mens/player-rankings/odi/bowling')\n"
   ]
  },
  {
   "cell_type": "code",
   "execution_count": 45,
   "id": "e565f64a",
   "metadata": {},
   "outputs": [],
   "source": [
    "soup7 = BeautifulSoup(page7.content)\n"
   ]
  },
  {
   "cell_type": "code",
   "execution_count": 46,
   "id": "42c6aaac",
   "metadata": {},
   "outputs": [],
   "source": [
    "players = [] \n",
    "team_name = []  \n",
    "rating = [] \n"
   ]
  },
  {
   "cell_type": "code",
   "execution_count": 47,
   "id": "8e20f89b",
   "metadata": {},
   "outputs": [],
   "source": [
    "for i in soup7.find_all(\"div\",class_='rankings-block__banner--name-large'):\n",
    "    players.append(i.text)\n",
    "for i in soup7.find_all(\"div\",class_='rankings-block__banner--nationality'):\n",
    "    team_name.append(i.text.replace(\"\\n\",\"\"))\n",
    "for i in soup7.find_all(\"div\",class_='rankings-block__banner--rating'):\n",
    "    rating.append(i.text)\n",
    "for i in soup7.find_all(\"td\",class_='table-body__cell rankings-table__name name'):\n",
    "    for j in i.find_all('a'):\n",
    "        players.append(j.text)\n",
    "for i in soup7.find_all(\"span\",class_='table-body__logo-text'):\n",
    "    team_name.append(i.text)\n",
    "for i in soup7.find_all(\"td\",class_='table-body__cell rating'):\n",
    "    rating.append(i.text)"
   ]
  },
  {
   "cell_type": "code",
   "execution_count": 48,
   "id": "43237850",
   "metadata": {},
   "outputs": [
    {
     "data": {
      "text/html": [
       "<div>\n",
       "<style scoped>\n",
       "    .dataframe tbody tr th:only-of-type {\n",
       "        vertical-align: middle;\n",
       "    }\n",
       "\n",
       "    .dataframe tbody tr th {\n",
       "        vertical-align: top;\n",
       "    }\n",
       "\n",
       "    .dataframe thead th {\n",
       "        text-align: right;\n",
       "    }\n",
       "</style>\n",
       "<table border=\"1\" class=\"dataframe\">\n",
       "  <thead>\n",
       "    <tr style=\"text-align: right;\">\n",
       "      <th></th>\n",
       "      <th>Player</th>\n",
       "      <th>Team</th>\n",
       "      <th>Rating</th>\n",
       "    </tr>\n",
       "  </thead>\n",
       "  <tbody>\n",
       "    <tr>\n",
       "      <th>0</th>\n",
       "      <td>Trent Boult</td>\n",
       "      <td>NZ</td>\n",
       "      <td>733</td>\n",
       "    </tr>\n",
       "    <tr>\n",
       "      <th>1</th>\n",
       "      <td>Josh Hazlewood</td>\n",
       "      <td>AUS</td>\n",
       "      <td>705</td>\n",
       "    </tr>\n",
       "    <tr>\n",
       "      <th>2</th>\n",
       "      <td>Chris Woakes</td>\n",
       "      <td>ENG</td>\n",
       "      <td>700</td>\n",
       "    </tr>\n",
       "    <tr>\n",
       "      <th>3</th>\n",
       "      <td>Matt Henry</td>\n",
       "      <td>NZ</td>\n",
       "      <td>687</td>\n",
       "    </tr>\n",
       "    <tr>\n",
       "      <th>4</th>\n",
       "      <td>Mujeeb Ur Rahman</td>\n",
       "      <td>AFG</td>\n",
       "      <td>681</td>\n",
       "    </tr>\n",
       "    <tr>\n",
       "      <th>5</th>\n",
       "      <td>Jasprit Bumrah</td>\n",
       "      <td>IND</td>\n",
       "      <td>679</td>\n",
       "    </tr>\n",
       "    <tr>\n",
       "      <th>6</th>\n",
       "      <td>Mehedi Hasan</td>\n",
       "      <td>BAN</td>\n",
       "      <td>661</td>\n",
       "    </tr>\n",
       "    <tr>\n",
       "      <th>7</th>\n",
       "      <td>Shakib Al Hasan</td>\n",
       "      <td>BAN</td>\n",
       "      <td>657</td>\n",
       "    </tr>\n",
       "    <tr>\n",
       "      <th>8</th>\n",
       "      <td>Adam Zampa</td>\n",
       "      <td>AUS</td>\n",
       "      <td>650</td>\n",
       "    </tr>\n",
       "    <tr>\n",
       "      <th>9</th>\n",
       "      <td>Rashid Khan</td>\n",
       "      <td>AFG</td>\n",
       "      <td>650</td>\n",
       "    </tr>\n",
       "  </tbody>\n",
       "</table>\n",
       "</div>"
      ],
      "text/plain": [
       "             Player                    Team Rating\n",
       "0       Trent Boult  NZ                        733\n",
       "1    Josh Hazlewood                     AUS    705\n",
       "2      Chris Woakes                     ENG    700\n",
       "3        Matt Henry                      NZ    687\n",
       "4  Mujeeb Ur Rahman                     AFG    681\n",
       "5    Jasprit Bumrah                     IND    679\n",
       "6      Mehedi Hasan                     BAN    661\n",
       "7   Shakib Al Hasan                     BAN    657\n",
       "8        Adam Zampa                     AUS    650\n",
       "9       Rashid Khan                     AFG    650"
      ]
     },
     "execution_count": 48,
     "metadata": {},
     "output_type": "execute_result"
    }
   ],
   "source": [
    "bowlers=pd.DataFrame({})\n",
    "bowlers['Player']=players[:10]\n",
    "bowlers['Team']=team_name[:10]\n",
    "bowlers['Rating']=rating[:10]\n",
    "bowlers\n"
   ]
  },
  {
   "cell_type": "markdown",
   "id": "7b77a55e",
   "metadata": {},
   "source": [
    "Solution 6"
   ]
  },
  {
   "cell_type": "code",
   "execution_count": 49,
   "id": "e6f0dac0",
   "metadata": {},
   "outputs": [],
   "source": [
    "page8 = requests.get('https://www.icc-cricket.com/rankings/womens/team-rankings/odi')"
   ]
  },
  {
   "cell_type": "code",
   "execution_count": 50,
   "id": "bab179fa",
   "metadata": {},
   "outputs": [],
   "source": [
    "soup8 = BeautifulSoup(page8.content)\n"
   ]
  },
  {
   "cell_type": "code",
   "execution_count": 51,
   "id": "ed505751",
   "metadata": {},
   "outputs": [],
   "source": [
    "womens_team = soup8.find_all(\"span\",class_='u-hide-phablet')\n",
    "womens_team_name = []\n",
    "for i in womens_team:\n",
    "    womens_team_name.append(i.text)\n",
    "womens_matches = []\n",
    "womens_points = []\n",
    "womens_ratings = []\n",
    "womens_new_list = []\n"
   ]
  },
  {
   "cell_type": "code",
   "execution_count": 52,
   "id": "efd49c6b",
   "metadata": {},
   "outputs": [],
   "source": [
    "for i in soup8.find_all(\"td\",class_='rankings-block__banner--matches'):\n",
    "    womens_matches.append(i.text)\n",
    "for i in soup8.find_all(\"td\",class_='rankings-block__banner--points'):\n",
    "    womens_points.append(i.text)\n",
    "for i in soup8.find_all(\"td\",class_='rankings-block__banner--rating u-text-right'):\n",
    "    womens_ratings.append(i.text.replace(\"\\n\",\"\"))\n",
    "for i in soup8.find_all(\"td\",class_='table-body__cell u-center-text'):\n",
    "    womens_new_list.append(i.text)\n",
    "for i in range(0,len(womens_new_list)-1,2):\n",
    "    womens_matches.append(womens_new_list[i])\n",
    "    womens_points.append(womens_new_list[i+1])\n",
    "for i in soup8.find_all(\"td\",class_='table-body__cell u-text-right rating'):\n",
    "    womens_ratings.append(i.text)"
   ]
  },
  {
   "cell_type": "code",
   "execution_count": 53,
   "id": "473aca78",
   "metadata": {},
   "outputs": [
    {
     "data": {
      "text/html": [
       "<div>\n",
       "<style scoped>\n",
       "    .dataframe tbody tr th:only-of-type {\n",
       "        vertical-align: middle;\n",
       "    }\n",
       "\n",
       "    .dataframe tbody tr th {\n",
       "        vertical-align: top;\n",
       "    }\n",
       "\n",
       "    .dataframe thead th {\n",
       "        text-align: right;\n",
       "    }\n",
       "</style>\n",
       "<table border=\"1\" class=\"dataframe\">\n",
       "  <thead>\n",
       "    <tr style=\"text-align: right;\">\n",
       "      <th></th>\n",
       "      <th>Team_name</th>\n",
       "      <th>Matches</th>\n",
       "      <th>Points</th>\n",
       "      <th>Ratings</th>\n",
       "    </tr>\n",
       "  </thead>\n",
       "  <tbody>\n",
       "    <tr>\n",
       "      <th>0</th>\n",
       "      <td>Australia</td>\n",
       "      <td>27</td>\n",
       "      <td>4,487</td>\n",
       "      <td>166               ...</td>\n",
       "    </tr>\n",
       "    <tr>\n",
       "      <th>1</th>\n",
       "      <td>South Africa</td>\n",
       "      <td>27</td>\n",
       "      <td>3,438</td>\n",
       "      <td>127</td>\n",
       "    </tr>\n",
       "    <tr>\n",
       "      <th>2</th>\n",
       "      <td>England</td>\n",
       "      <td>28</td>\n",
       "      <td>3,248</td>\n",
       "      <td>116</td>\n",
       "    </tr>\n",
       "    <tr>\n",
       "      <th>3</th>\n",
       "      <td>India</td>\n",
       "      <td>29</td>\n",
       "      <td>2,890</td>\n",
       "      <td>100</td>\n",
       "    </tr>\n",
       "    <tr>\n",
       "      <th>4</th>\n",
       "      <td>New Zealand</td>\n",
       "      <td>31</td>\n",
       "      <td>3,018</td>\n",
       "      <td>97</td>\n",
       "    </tr>\n",
       "    <tr>\n",
       "      <th>5</th>\n",
       "      <td>West Indies</td>\n",
       "      <td>27</td>\n",
       "      <td>2,399</td>\n",
       "      <td>89</td>\n",
       "    </tr>\n",
       "    <tr>\n",
       "      <th>6</th>\n",
       "      <td>Bangladesh</td>\n",
       "      <td>12</td>\n",
       "      <td>935</td>\n",
       "      <td>78</td>\n",
       "    </tr>\n",
       "    <tr>\n",
       "      <th>7</th>\n",
       "      <td>Pakistan</td>\n",
       "      <td>26</td>\n",
       "      <td>1,753</td>\n",
       "      <td>67</td>\n",
       "    </tr>\n",
       "    <tr>\n",
       "      <th>8</th>\n",
       "      <td>Ireland</td>\n",
       "      <td>5</td>\n",
       "      <td>240</td>\n",
       "      <td>48</td>\n",
       "    </tr>\n",
       "    <tr>\n",
       "      <th>9</th>\n",
       "      <td>Sri Lanka</td>\n",
       "      <td>5</td>\n",
       "      <td>233</td>\n",
       "      <td>47</td>\n",
       "    </tr>\n",
       "  </tbody>\n",
       "</table>\n",
       "</div>"
      ],
      "text/plain": [
       "      Team_name Matches Points  \\\n",
       "0     Australia      27  4,487   \n",
       "1  South Africa      27  3,438   \n",
       "2       England      28  3,248   \n",
       "3         India      29  2,890   \n",
       "4   New Zealand      31  3,018   \n",
       "5   West Indies      27  2,399   \n",
       "6    Bangladesh      12    935   \n",
       "7      Pakistan      26  1,753   \n",
       "8       Ireland       5    240   \n",
       "9     Sri Lanka       5    233   \n",
       "\n",
       "                                             Ratings  \n",
       "0                              166               ...  \n",
       "1                                                127  \n",
       "2                                                116  \n",
       "3                                                100  \n",
       "4                                                 97  \n",
       "5                                                 89  \n",
       "6                                                 78  \n",
       "7                                                 67  \n",
       "8                                                 48  \n",
       "9                                                 47  "
      ]
     },
     "execution_count": 53,
     "metadata": {},
     "output_type": "execute_result"
    }
   ],
   "source": [
    "womens_icc=pd.DataFrame({})\n",
    "womens_icc['Team_name']=womens_team_name[:10]\n",
    "womens_icc['Matches']=womens_matches[:10]\n",
    "womens_icc['Points']=womens_points[:10]\n",
    "womens_icc['Ratings']=womens_ratings[:10]\n",
    "womens_icc"
   ]
  },
  {
   "cell_type": "code",
   "execution_count": 54,
   "id": "e1edca85",
   "metadata": {},
   "outputs": [],
   "source": [
    "page9 = requests.get('https://www.icc-cricket.com/rankings/womens/player-rankings/odi/batting')\n"
   ]
  },
  {
   "cell_type": "code",
   "execution_count": 55,
   "id": "d844db80",
   "metadata": {},
   "outputs": [],
   "source": [
    "soup9 = BeautifulSoup(page9.content)\n"
   ]
  },
  {
   "cell_type": "code",
   "execution_count": 56,
   "id": "1ffd73a4",
   "metadata": {},
   "outputs": [],
   "source": [
    "players = []\n",
    "team_name = []\n",
    "rating = []\n"
   ]
  },
  {
   "cell_type": "code",
   "execution_count": 57,
   "id": "63c3b788",
   "metadata": {},
   "outputs": [],
   "source": [
    "for i in soup9.find_all(\"div\",class_='rankings-block__banner--name-large'):\n",
    "    players.append(i.text)\n",
    "for i in soup9.find_all(\"div\",class_='rankings-block__banner--nationality'):\n",
    "    team_name.append(i.text.replace(\"\\n\",\"\"))\n",
    "for i in soup9.find_all(\"div\",class_='rankings-block__banner--rating'):\n",
    "    rating.append(i.text)\n",
    "for i in soup9.find_all(\"td\",class_='table-body__cell rankings-table__name name'):\n",
    "    for j in i.find_all('a'):\n",
    "        players.append(j.text)\n",
    "for i in soup9.find_all(\"span\",class_='table-body__logo-text'):\n",
    "    team_name.append(i.text)\n",
    "for i in soup9.find_all(\"td\",class_='table-body__cell rating'):\n",
    "    rating.append(i.text)\n",
    "    \n"
   ]
  },
  {
   "cell_type": "code",
   "execution_count": 58,
   "id": "7cf0d6c7",
   "metadata": {},
   "outputs": [
    {
     "data": {
      "text/html": [
       "<div>\n",
       "<style scoped>\n",
       "    .dataframe tbody tr th:only-of-type {\n",
       "        vertical-align: middle;\n",
       "    }\n",
       "\n",
       "    .dataframe tbody tr th {\n",
       "        vertical-align: top;\n",
       "    }\n",
       "\n",
       "    .dataframe thead th {\n",
       "        text-align: right;\n",
       "    }\n",
       "</style>\n",
       "<table border=\"1\" class=\"dataframe\">\n",
       "  <thead>\n",
       "    <tr style=\"text-align: right;\">\n",
       "      <th></th>\n",
       "      <th>Player</th>\n",
       "      <th>Team</th>\n",
       "      <th>Rating</th>\n",
       "    </tr>\n",
       "  </thead>\n",
       "  <tbody>\n",
       "    <tr>\n",
       "      <th>0</th>\n",
       "      <td>Laura Wolvaardt</td>\n",
       "      <td>SA</td>\n",
       "      <td>740</td>\n",
       "    </tr>\n",
       "    <tr>\n",
       "      <th>1</th>\n",
       "      <td>Beth Mooney</td>\n",
       "      <td>AUS</td>\n",
       "      <td>726</td>\n",
       "    </tr>\n",
       "    <tr>\n",
       "      <th>2</th>\n",
       "      <td>Meg Lanning</td>\n",
       "      <td>AUS</td>\n",
       "      <td>718</td>\n",
       "    </tr>\n",
       "    <tr>\n",
       "      <th>3</th>\n",
       "      <td>Natalie Sciver</td>\n",
       "      <td>ENG</td>\n",
       "      <td>705</td>\n",
       "    </tr>\n",
       "    <tr>\n",
       "      <th>4</th>\n",
       "      <td>Alyssa Healy</td>\n",
       "      <td>AUS</td>\n",
       "      <td>703</td>\n",
       "    </tr>\n",
       "    <tr>\n",
       "      <th>5</th>\n",
       "      <td>Mithali Raj</td>\n",
       "      <td>IND</td>\n",
       "      <td>686</td>\n",
       "    </tr>\n",
       "    <tr>\n",
       "      <th>6</th>\n",
       "      <td>Rachael Haynes</td>\n",
       "      <td>AUS</td>\n",
       "      <td>684</td>\n",
       "    </tr>\n",
       "    <tr>\n",
       "      <th>7</th>\n",
       "      <td>Tammy Beaumont</td>\n",
       "      <td>ENG</td>\n",
       "      <td>682</td>\n",
       "    </tr>\n",
       "    <tr>\n",
       "      <th>8</th>\n",
       "      <td>Amy Satterthwaite</td>\n",
       "      <td>NZ</td>\n",
       "      <td>681</td>\n",
       "    </tr>\n",
       "    <tr>\n",
       "      <th>9</th>\n",
       "      <td>Smriti Mandhana</td>\n",
       "      <td>IND</td>\n",
       "      <td>669</td>\n",
       "    </tr>\n",
       "  </tbody>\n",
       "</table>\n",
       "</div>"
      ],
      "text/plain": [
       "              Player                    Team Rating\n",
       "0    Laura Wolvaardt  SA                        740\n",
       "1        Beth Mooney                     AUS    726\n",
       "2        Meg Lanning                     AUS    718\n",
       "3     Natalie Sciver                     ENG    705\n",
       "4       Alyssa Healy                     AUS    703\n",
       "5        Mithali Raj                     IND    686\n",
       "6     Rachael Haynes                     AUS    684\n",
       "7     Tammy Beaumont                     ENG    682\n",
       "8  Amy Satterthwaite                      NZ    681\n",
       "9    Smriti Mandhana                     IND    669"
      ]
     },
     "execution_count": 58,
     "metadata": {},
     "output_type": "execute_result"
    }
   ],
   "source": [
    "top_players=pd.DataFrame({})\n",
    "top_players['Player']=players[:10]\n",
    "top_players['Team']=team_name[:10]\n",
    "top_players['Rating']=rating[:10]\n",
    "top_players"
   ]
  },
  {
   "cell_type": "code",
   "execution_count": 59,
   "id": "621c8072",
   "metadata": {},
   "outputs": [],
   "source": [
    "page10 = requests.get('https://www.icc-cricket.com/rankings/womens/player-rankings/odi/all-rounder')\n"
   ]
  },
  {
   "cell_type": "code",
   "execution_count": 60,
   "id": "f5f5c38b",
   "metadata": {},
   "outputs": [],
   "source": [
    "soup10 = BeautifulSoup(page10.content)"
   ]
  },
  {
   "cell_type": "code",
   "execution_count": 61,
   "id": "a2122b56",
   "metadata": {},
   "outputs": [],
   "source": [
    "players = []\n",
    "team_name = []\n",
    "rating = []\n"
   ]
  },
  {
   "cell_type": "code",
   "execution_count": 62,
   "id": "2ad7faa2",
   "metadata": {},
   "outputs": [],
   "source": [
    "for i in soup10.find_all(\"div\",class_='rankings-block__banner--name-large'):\n",
    "    players.append(i.text)\n",
    "for i in soup10.find_all(\"div\",class_='rankings-block__banner--nationality'):\n",
    "    team_name.append(i.text.replace(\"\\n\",\"\"))\n",
    "for i in soup10.find_all(\"div\",class_='rankings-block__banner--rating'):\n",
    "    rating.append(i.text)\n",
    "for i in soup10.find_all(\"td\",class_='table-body__cell rankings-table__name name'):\n",
    "    for j in i.find_all('a'):\n",
    "        players.append(j.text)\n",
    "for i in soup10.find_all(\"span\",class_='table-body__logo-text'):\n",
    "    team_name.append(i.text)\n",
    "for i in soup10.find_all(\"td\",class_='table-body__cell rating'):\n",
    "    rating.append(i.text)"
   ]
  },
  {
   "cell_type": "code",
   "execution_count": 63,
   "id": "d29217e6",
   "metadata": {},
   "outputs": [
    {
     "data": {
      "text/html": [
       "<div>\n",
       "<style scoped>\n",
       "    .dataframe tbody tr th:only-of-type {\n",
       "        vertical-align: middle;\n",
       "    }\n",
       "\n",
       "    .dataframe tbody tr th {\n",
       "        vertical-align: top;\n",
       "    }\n",
       "\n",
       "    .dataframe thead th {\n",
       "        text-align: right;\n",
       "    }\n",
       "</style>\n",
       "<table border=\"1\" class=\"dataframe\">\n",
       "  <thead>\n",
       "    <tr style=\"text-align: right;\">\n",
       "      <th></th>\n",
       "      <th>Player</th>\n",
       "      <th>Team</th>\n",
       "      <th>Rating</th>\n",
       "    </tr>\n",
       "  </thead>\n",
       "  <tbody>\n",
       "    <tr>\n",
       "      <th>0</th>\n",
       "      <td>Ellyse Perry</td>\n",
       "      <td>AUS</td>\n",
       "      <td>404</td>\n",
       "    </tr>\n",
       "    <tr>\n",
       "      <th>1</th>\n",
       "      <td>Natalie Sciver</td>\n",
       "      <td>ENG</td>\n",
       "      <td>376</td>\n",
       "    </tr>\n",
       "    <tr>\n",
       "      <th>2</th>\n",
       "      <td>Marizanne Kapp</td>\n",
       "      <td>SA</td>\n",
       "      <td>359</td>\n",
       "    </tr>\n",
       "    <tr>\n",
       "      <th>3</th>\n",
       "      <td>Hayley Matthews</td>\n",
       "      <td>WI</td>\n",
       "      <td>340</td>\n",
       "    </tr>\n",
       "    <tr>\n",
       "      <th>4</th>\n",
       "      <td>Amelia Kerr</td>\n",
       "      <td>NZ</td>\n",
       "      <td>335</td>\n",
       "    </tr>\n",
       "    <tr>\n",
       "      <th>5</th>\n",
       "      <td>Ashleigh Gardner</td>\n",
       "      <td>AUS</td>\n",
       "      <td>278</td>\n",
       "    </tr>\n",
       "    <tr>\n",
       "      <th>6</th>\n",
       "      <td>Deepti Sharma</td>\n",
       "      <td>IND</td>\n",
       "      <td>249</td>\n",
       "    </tr>\n",
       "    <tr>\n",
       "      <th>7</th>\n",
       "      <td>Jess Jonassen</td>\n",
       "      <td>AUS</td>\n",
       "      <td>246</td>\n",
       "    </tr>\n",
       "    <tr>\n",
       "      <th>8</th>\n",
       "      <td>Katherine Brunt</td>\n",
       "      <td>ENG</td>\n",
       "      <td>239</td>\n",
       "    </tr>\n",
       "    <tr>\n",
       "      <th>9</th>\n",
       "      <td>Jhulan Goswami</td>\n",
       "      <td>IND</td>\n",
       "      <td>217</td>\n",
       "    </tr>\n",
       "  </tbody>\n",
       "</table>\n",
       "</div>"
      ],
      "text/plain": [
       "             Player                     Team Rating\n",
       "0      Ellyse Perry  AUS                        404\n",
       "1    Natalie Sciver                      ENG    376\n",
       "2    Marizanne Kapp                       SA    359\n",
       "3   Hayley Matthews                       WI    340\n",
       "4       Amelia Kerr                       NZ    335\n",
       "5  Ashleigh Gardner                      AUS    278\n",
       "6     Deepti Sharma                      IND    249\n",
       "7     Jess Jonassen                      AUS    246\n",
       "8   Katherine Brunt                      ENG    239\n",
       "9    Jhulan Goswami                      IND    217"
      ]
     },
     "execution_count": 63,
     "metadata": {},
     "output_type": "execute_result"
    }
   ],
   "source": [
    "all_rounder=pd.DataFrame({})\n",
    "all_rounder['Player']=players[:10]\n",
    "all_rounder['Team']=team_name[:10]\n",
    "all_rounder['Rating']=rating[:10]\n",
    "all_rounder"
   ]
  },
  {
   "cell_type": "markdown",
   "id": "39ffe141",
   "metadata": {},
   "source": [
    "Solution 7"
   ]
  },
  {
   "cell_type": "code",
   "execution_count": 64,
   "id": "6162196b",
   "metadata": {},
   "outputs": [],
   "source": [
    "page = requests.get('https://coreyms.com/')\n"
   ]
  },
  {
   "cell_type": "code",
   "execution_count": 65,
   "id": "8f937108",
   "metadata": {},
   "outputs": [],
   "source": [
    "soup = BeautifulSoup(page.content)\n"
   ]
  },
  {
   "cell_type": "code",
   "execution_count": 66,
   "id": "9a474337",
   "metadata": {},
   "outputs": [],
   "source": [
    "heading = []\n"
   ]
  },
  {
   "cell_type": "code",
   "execution_count": 67,
   "id": "4a584b1d",
   "metadata": {},
   "outputs": [],
   "source": [
    "for i in soup.find_all('h2',class_=\"entry-title\"):\n",
    "    heading.append(i.text)\n",
    "\n"
   ]
  },
  {
   "cell_type": "code",
   "execution_count": 68,
   "id": "8600988e",
   "metadata": {},
   "outputs": [],
   "source": [
    "date = []\n"
   ]
  },
  {
   "cell_type": "code",
   "execution_count": 69,
   "id": "9495e0f9",
   "metadata": {},
   "outputs": [],
   "source": [
    "for i in soup.find_all('time',class_=\"entry-time\"):\n",
    "    date.append(i.text)\n"
   ]
  },
  {
   "cell_type": "code",
   "execution_count": 70,
   "id": "597e668e",
   "metadata": {},
   "outputs": [],
   "source": [
    "content = []\n"
   ]
  },
  {
   "cell_type": "code",
   "execution_count": 71,
   "id": "15930c15",
   "metadata": {},
   "outputs": [],
   "source": [
    "for i in soup.find_all('div',class_=\"entry-content\"):\n",
    "    content.append(i.text)\n"
   ]
  },
  {
   "cell_type": "code",
   "execution_count": 72,
   "id": "e9776728",
   "metadata": {},
   "outputs": [
    {
     "data": {
      "text/html": [
       "<div>\n",
       "<style scoped>\n",
       "    .dataframe tbody tr th:only-of-type {\n",
       "        vertical-align: middle;\n",
       "    }\n",
       "\n",
       "    .dataframe tbody tr th {\n",
       "        vertical-align: top;\n",
       "    }\n",
       "\n",
       "    .dataframe thead th {\n",
       "        text-align: right;\n",
       "    }\n",
       "</style>\n",
       "<table border=\"1\" class=\"dataframe\">\n",
       "  <thead>\n",
       "    <tr style=\"text-align: right;\">\n",
       "      <th></th>\n",
       "      <th>Heading</th>\n",
       "      <th>Date</th>\n",
       "      <th>Content</th>\n",
       "    </tr>\n",
       "  </thead>\n",
       "  <tbody>\n",
       "    <tr>\n",
       "      <th>0</th>\n",
       "      <td>Python Tutorial: Zip Files – Creating and Extr...</td>\n",
       "      <td>November 19, 2019</td>\n",
       "      <td>\\nIn this video, we will be learning how to cr...</td>\n",
       "    </tr>\n",
       "    <tr>\n",
       "      <th>1</th>\n",
       "      <td>Python Data Science Tutorial: Analyzing the 20...</td>\n",
       "      <td>October 17, 2019</td>\n",
       "      <td>\\nIn this Python Programming video, we will be...</td>\n",
       "    </tr>\n",
       "    <tr>\n",
       "      <th>2</th>\n",
       "      <td>Python Multiprocessing Tutorial: Run Code in P...</td>\n",
       "      <td>September 21, 2019</td>\n",
       "      <td>\\nIn this Python Programming video, we will be...</td>\n",
       "    </tr>\n",
       "    <tr>\n",
       "      <th>3</th>\n",
       "      <td>Python Threading Tutorial: Run Code Concurrent...</td>\n",
       "      <td>September 12, 2019</td>\n",
       "      <td>\\nIn this Python Programming video, we will be...</td>\n",
       "    </tr>\n",
       "    <tr>\n",
       "      <th>4</th>\n",
       "      <td>Update (2019-09-03)</td>\n",
       "      <td>September 3, 2019</td>\n",
       "      <td>\\nHey everyone. I wanted to give you an update...</td>\n",
       "    </tr>\n",
       "    <tr>\n",
       "      <th>5</th>\n",
       "      <td>Python Quick Tip: The Difference Between “==” ...</td>\n",
       "      <td>August 6, 2019</td>\n",
       "      <td>\\nIn this Python Programming Tutorial, we will...</td>\n",
       "    </tr>\n",
       "    <tr>\n",
       "      <th>6</th>\n",
       "      <td>Python Tutorial: Calling External Commands Usi...</td>\n",
       "      <td>July 24, 2019</td>\n",
       "      <td>\\nIn this Python Programming Tutorial, we will...</td>\n",
       "    </tr>\n",
       "    <tr>\n",
       "      <th>7</th>\n",
       "      <td>Visual Studio Code (Windows) – Setting up a Py...</td>\n",
       "      <td>May 1, 2019</td>\n",
       "      <td>\\nIn this Python Programming Tutorial, we will...</td>\n",
       "    </tr>\n",
       "    <tr>\n",
       "      <th>8</th>\n",
       "      <td>Visual Studio Code (Mac) – Setting up a Python...</td>\n",
       "      <td>May 1, 2019</td>\n",
       "      <td>\\nIn this Python Programming Tutorial, we will...</td>\n",
       "    </tr>\n",
       "    <tr>\n",
       "      <th>9</th>\n",
       "      <td>Clarifying the Issues with Mutable Default Arg...</td>\n",
       "      <td>April 24, 2019</td>\n",
       "      <td>\\nIn this Python Programming Tutorial, we will...</td>\n",
       "    </tr>\n",
       "  </tbody>\n",
       "</table>\n",
       "</div>"
      ],
      "text/plain": [
       "                                             Heading                Date  \\\n",
       "0  Python Tutorial: Zip Files – Creating and Extr...   November 19, 2019   \n",
       "1  Python Data Science Tutorial: Analyzing the 20...    October 17, 2019   \n",
       "2  Python Multiprocessing Tutorial: Run Code in P...  September 21, 2019   \n",
       "3  Python Threading Tutorial: Run Code Concurrent...  September 12, 2019   \n",
       "4                                Update (2019-09-03)   September 3, 2019   \n",
       "5  Python Quick Tip: The Difference Between “==” ...      August 6, 2019   \n",
       "6  Python Tutorial: Calling External Commands Usi...       July 24, 2019   \n",
       "7  Visual Studio Code (Windows) – Setting up a Py...         May 1, 2019   \n",
       "8  Visual Studio Code (Mac) – Setting up a Python...         May 1, 2019   \n",
       "9  Clarifying the Issues with Mutable Default Arg...      April 24, 2019   \n",
       "\n",
       "                                             Content  \n",
       "0  \\nIn this video, we will be learning how to cr...  \n",
       "1  \\nIn this Python Programming video, we will be...  \n",
       "2  \\nIn this Python Programming video, we will be...  \n",
       "3  \\nIn this Python Programming video, we will be...  \n",
       "4  \\nHey everyone. I wanted to give you an update...  \n",
       "5  \\nIn this Python Programming Tutorial, we will...  \n",
       "6  \\nIn this Python Programming Tutorial, we will...  \n",
       "7  \\nIn this Python Programming Tutorial, we will...  \n",
       "8  \\nIn this Python Programming Tutorial, we will...  \n",
       "9  \\nIn this Python Programming Tutorial, we will...  "
      ]
     },
     "execution_count": 72,
     "metadata": {},
     "output_type": "execute_result"
    }
   ],
   "source": [
    "df = pd.DataFrame({'Heading':heading, 'Date':date, 'Content':content})\n",
    "df\n"
   ]
  },
  {
   "cell_type": "markdown",
   "id": "7a5f15c8",
   "metadata": {},
   "source": [
    "Solution 9"
   ]
  },
  {
   "cell_type": "code",
   "execution_count": 73,
   "id": "fec950f8",
   "metadata": {},
   "outputs": [],
   "source": [
    "page = requests.get('https://www.dineout.co.in/delhi-restaurants/buffet-special')\n"
   ]
  },
  {
   "cell_type": "code",
   "execution_count": 74,
   "id": "d4079948",
   "metadata": {},
   "outputs": [],
   "source": [
    "soup = BeautifulSoup(page.content)\n"
   ]
  },
  {
   "cell_type": "code",
   "execution_count": 75,
   "id": "ceb69527",
   "metadata": {},
   "outputs": [],
   "source": [
    "name = []\n",
    "for i in soup.find_all('a',class_=\"restnt-name ellipsis\"):\n",
    "    name.append(i.text)\n"
   ]
  },
  {
   "cell_type": "code",
   "execution_count": 76,
   "id": "2f3090e4",
   "metadata": {},
   "outputs": [],
   "source": [
    "pricecuisine = []\n",
    "for i in soup.find_all('span',class_=\"double-line-ellipsis\"):\n",
    "    pricecuisine.append(i.text)\n"
   ]
  },
  {
   "cell_type": "code",
   "execution_count": 77,
   "id": "c41ea581",
   "metadata": {},
   "outputs": [],
   "source": [
    "location = []\n",
    "for i in soup.find_all('div',class_=\"restnt-loc ellipsis\"):\n",
    "    location.append(i.text)\n"
   ]
  },
  {
   "cell_type": "code",
   "execution_count": 78,
   "id": "bc222997",
   "metadata": {},
   "outputs": [],
   "source": [
    "rating = []\n",
    "for i in soup.find_all('div',class_=\"restnt-rating rating-4\"):\n",
    "    rating.append(i.text)\n",
    "    "
   ]
  },
  {
   "cell_type": "code",
   "execution_count": 80,
   "id": "0e6430ba",
   "metadata": {},
   "outputs": [],
   "source": [
    "imageurl = []\n",
    "for i in soup.find_all('img',class_=\"no-img\"):\n",
    "    imageurl.append(i['data-src'])\n",
    "    \n"
   ]
  },
  {
   "cell_type": "code",
   "execution_count": 81,
   "id": "73330283",
   "metadata": {},
   "outputs": [
    {
     "data": {
      "text/html": [
       "<div>\n",
       "<style scoped>\n",
       "    .dataframe tbody tr th:only-of-type {\n",
       "        vertical-align: middle;\n",
       "    }\n",
       "\n",
       "    .dataframe tbody tr th {\n",
       "        vertical-align: top;\n",
       "    }\n",
       "\n",
       "    .dataframe thead th {\n",
       "        text-align: right;\n",
       "    }\n",
       "</style>\n",
       "<table border=\"1\" class=\"dataframe\">\n",
       "  <thead>\n",
       "    <tr style=\"text-align: right;\">\n",
       "      <th></th>\n",
       "      <th>Name</th>\n",
       "      <th>Price and Cuisine</th>\n",
       "      <th>Location</th>\n",
       "      <th>Rating</th>\n",
       "      <th>Image URL</th>\n",
       "    </tr>\n",
       "  </thead>\n",
       "  <tbody>\n",
       "    <tr>\n",
       "      <th>0</th>\n",
       "      <td>Castle Barbeque</td>\n",
       "      <td>₹ 2,000 for 2 (approx) | North Indian, Chinese</td>\n",
       "      <td>Connaught Place, Central Delhi</td>\n",
       "      <td>3.5</td>\n",
       "      <td>https://im1.dineout.co.in/images/uploads/resta...</td>\n",
       "    </tr>\n",
       "    <tr>\n",
       "      <th>1</th>\n",
       "      <td>Jungle Jamboree</td>\n",
       "      <td>₹ 1,400 for 2 (approx) | North Indian, Asian, ...</td>\n",
       "      <td>3CS Mall,Lajpat Nagar - 3, South Delhi</td>\n",
       "      <td>3.9</td>\n",
       "      <td>https://im1.dineout.co.in/images/uploads/resta...</td>\n",
       "    </tr>\n",
       "    <tr>\n",
       "      <th>2</th>\n",
       "      <td>Castle Barbeque</td>\n",
       "      <td>₹ 2,000 for 2 (approx) | Chinese, North Indian</td>\n",
       "      <td>Pacific Mall,Tagore Garden, West Delhi</td>\n",
       "      <td>3.9</td>\n",
       "      <td>https://im1.dineout.co.in/images/uploads/resta...</td>\n",
       "    </tr>\n",
       "    <tr>\n",
       "      <th>3</th>\n",
       "      <td>Cafe Knosh</td>\n",
       "      <td>₹ 3,000 for 2 (approx) | Italian, Continental</td>\n",
       "      <td>The Leela Ambience Convention Hotel,Shahdara, ...</td>\n",
       "      <td>4.3</td>\n",
       "      <td>https://im1.dineout.co.in/images/uploads/resta...</td>\n",
       "    </tr>\n",
       "    <tr>\n",
       "      <th>4</th>\n",
       "      <td>The Barbeque Company</td>\n",
       "      <td>₹ 1,700 for 2 (approx) | North Indian, Chinese</td>\n",
       "      <td>Gardens Galleria,Sector 38A, Noida</td>\n",
       "      <td>4</td>\n",
       "      <td>https://im1.dineout.co.in/images/uploads/resta...</td>\n",
       "    </tr>\n",
       "    <tr>\n",
       "      <th>5</th>\n",
       "      <td>India Grill</td>\n",
       "      <td>₹ 2,400 for 2 (approx) | North Indian, Italian</td>\n",
       "      <td>Hilton Garden Inn,Saket, South Delhi</td>\n",
       "      <td>3.9</td>\n",
       "      <td>https://im1.dineout.co.in/images/uploads/resta...</td>\n",
       "    </tr>\n",
       "    <tr>\n",
       "      <th>6</th>\n",
       "      <td>Delhi Barbeque</td>\n",
       "      <td>₹ 1,800 for 2 (approx) | North Indian</td>\n",
       "      <td>Taurus Sarovar Portico,Mahipalpur, South Delhi</td>\n",
       "      <td>3.7</td>\n",
       "      <td>https://im1.dineout.co.in/images/uploads/resta...</td>\n",
       "    </tr>\n",
       "    <tr>\n",
       "      <th>7</th>\n",
       "      <td>The Monarch - Bar Be Que Village</td>\n",
       "      <td>₹ 1,900 for 2 (approx) | North Indian, Chinese</td>\n",
       "      <td>Indirapuram Habitat Centre,Indirapuram, Ghaziabad</td>\n",
       "      <td>3.9</td>\n",
       "      <td>https://im1.dineout.co.in/images/uploads/resta...</td>\n",
       "    </tr>\n",
       "    <tr>\n",
       "      <th>8</th>\n",
       "      <td>World Cafe</td>\n",
       "      <td>₹ 1,800 for 2 (approx) | North Indian, Chinese...</td>\n",
       "      <td>Vibe by The Lalit Traveller,Sector 35, Faridabad</td>\n",
       "      <td>4.2</td>\n",
       "      <td>https://im1.dineout.co.in/images/uploads/resta...</td>\n",
       "    </tr>\n",
       "    <tr>\n",
       "      <th>9</th>\n",
       "      <td>Indian Grill Room</td>\n",
       "      <td>₹ 2,000 for 2 (approx) | North Indian, Mughlai</td>\n",
       "      <td>Suncity Business Tower,Golf Course Road, Gurgaon</td>\n",
       "      <td>4.3</td>\n",
       "      <td>https://im1.dineout.co.in/images/uploads/resta...</td>\n",
       "    </tr>\n",
       "    <tr>\n",
       "      <th>10</th>\n",
       "      <td>Mad 4 Bar B Que</td>\n",
       "      <td>₹ 800 for 2 (approx) | North Indian</td>\n",
       "      <td>Sector 29, Faridabad</td>\n",
       "      <td>3.6</td>\n",
       "      <td>https://im1.dineout.co.in/images/uploads/resta...</td>\n",
       "    </tr>\n",
       "    <tr>\n",
       "      <th>11</th>\n",
       "      <td>Barbeque 29</td>\n",
       "      <td>₹ 1,500 for 2 (approx) | North Indian, Mughlai...</td>\n",
       "      <td>NIT, Faridabad</td>\n",
       "      <td>4.2</td>\n",
       "      <td>https://im1.dineout.co.in/images/uploads/resta...</td>\n",
       "    </tr>\n",
       "    <tr>\n",
       "      <th>12</th>\n",
       "      <td>Glasshouse</td>\n",
       "      <td>₹ 3,400 for 2 (approx) | European, Italian, As...</td>\n",
       "      <td>DoubleTree By Hilton Gurugram Baani Square,Sec...</td>\n",
       "      <td>4</td>\n",
       "      <td>https://im1.dineout.co.in/images/uploads/resta...</td>\n",
       "    </tr>\n",
       "  </tbody>\n",
       "</table>\n",
       "</div>"
      ],
      "text/plain": [
       "                                Name  \\\n",
       "0                    Castle Barbeque   \n",
       "1                    Jungle Jamboree   \n",
       "2                    Castle Barbeque   \n",
       "3                         Cafe Knosh   \n",
       "4               The Barbeque Company   \n",
       "5                        India Grill   \n",
       "6                     Delhi Barbeque   \n",
       "7   The Monarch - Bar Be Que Village   \n",
       "8                         World Cafe   \n",
       "9                  Indian Grill Room   \n",
       "10                   Mad 4 Bar B Que   \n",
       "11                       Barbeque 29   \n",
       "12                        Glasshouse   \n",
       "\n",
       "                                    Price and Cuisine  \\\n",
       "0      ₹ 2,000 for 2 (approx) | North Indian, Chinese   \n",
       "1   ₹ 1,400 for 2 (approx) | North Indian, Asian, ...   \n",
       "2      ₹ 2,000 for 2 (approx) | Chinese, North Indian   \n",
       "3       ₹ 3,000 for 2 (approx) | Italian, Continental   \n",
       "4      ₹ 1,700 for 2 (approx) | North Indian, Chinese   \n",
       "5      ₹ 2,400 for 2 (approx) | North Indian, Italian   \n",
       "6               ₹ 1,800 for 2 (approx) | North Indian   \n",
       "7      ₹ 1,900 for 2 (approx) | North Indian, Chinese   \n",
       "8   ₹ 1,800 for 2 (approx) | North Indian, Chinese...   \n",
       "9      ₹ 2,000 for 2 (approx) | North Indian, Mughlai   \n",
       "10                ₹ 800 for 2 (approx) | North Indian   \n",
       "11  ₹ 1,500 for 2 (approx) | North Indian, Mughlai...   \n",
       "12  ₹ 3,400 for 2 (approx) | European, Italian, As...   \n",
       "\n",
       "                                             Location Rating  \\\n",
       "0                      Connaught Place, Central Delhi    3.5   \n",
       "1              3CS Mall,Lajpat Nagar - 3, South Delhi    3.9   \n",
       "2              Pacific Mall,Tagore Garden, West Delhi    3.9   \n",
       "3   The Leela Ambience Convention Hotel,Shahdara, ...    4.3   \n",
       "4                  Gardens Galleria,Sector 38A, Noida      4   \n",
       "5                Hilton Garden Inn,Saket, South Delhi    3.9   \n",
       "6      Taurus Sarovar Portico,Mahipalpur, South Delhi    3.7   \n",
       "7   Indirapuram Habitat Centre,Indirapuram, Ghaziabad    3.9   \n",
       "8    Vibe by The Lalit Traveller,Sector 35, Faridabad    4.2   \n",
       "9    Suncity Business Tower,Golf Course Road, Gurgaon    4.3   \n",
       "10                               Sector 29, Faridabad    3.6   \n",
       "11                                     NIT, Faridabad    4.2   \n",
       "12  DoubleTree By Hilton Gurugram Baani Square,Sec...      4   \n",
       "\n",
       "                                            Image URL  \n",
       "0   https://im1.dineout.co.in/images/uploads/resta...  \n",
       "1   https://im1.dineout.co.in/images/uploads/resta...  \n",
       "2   https://im1.dineout.co.in/images/uploads/resta...  \n",
       "3   https://im1.dineout.co.in/images/uploads/resta...  \n",
       "4   https://im1.dineout.co.in/images/uploads/resta...  \n",
       "5   https://im1.dineout.co.in/images/uploads/resta...  \n",
       "6   https://im1.dineout.co.in/images/uploads/resta...  \n",
       "7   https://im1.dineout.co.in/images/uploads/resta...  \n",
       "8   https://im1.dineout.co.in/images/uploads/resta...  \n",
       "9   https://im1.dineout.co.in/images/uploads/resta...  \n",
       "10  https://im1.dineout.co.in/images/uploads/resta...  \n",
       "11  https://im1.dineout.co.in/images/uploads/resta...  \n",
       "12  https://im1.dineout.co.in/images/uploads/resta...  "
      ]
     },
     "execution_count": 81,
     "metadata": {},
     "output_type": "execute_result"
    }
   ],
   "source": [
    "df = pd.DataFrame({'Name':name, 'Price and Cuisine':pricecuisine, 'Location':location, 'Rating':rating, 'Image URL':imageurl})\n",
    "df\n"
   ]
  },
  {
   "cell_type": "markdown",
   "id": "4124738e",
   "metadata": {},
   "source": [
    "Solution 8"
   ]
  },
  {
   "cell_type": "code",
   "execution_count": 6,
   "id": "bfca2b01",
   "metadata": {},
   "outputs": [
    {
     "data": {
      "text/plain": [
       "[]"
      ]
     },
     "execution_count": 6,
     "metadata": {},
     "output_type": "execute_result"
    }
   ],
   "source": [
    "import requests\n",
    "from bs4 import BeautifulSoup \n",
    "import pandas as pd\n",
    "\n",
    "url='https://www.nobroker.in/property/sale/bangalore/multiple?searchParam=W3sibGF0IjoxMy4wNjk4MjgxLCJsb24iOjc3LjU4OTYwNTQ5OTk5OTk5LCJwbGFjZUlkIjoiQ2hJSnowVW1UU0lZcmpzUm1CRFhNMnZXS3pzIiwicGxhY2VOYW1lIjoiSW5kcmEgTmFnYXIiLCJzaG93TWFwIjpmYWxzZX0seyJsYXQiOjEyLjkzMDc3MzUsImxvbiI6NzcuNTgzODMwMiwicGxhY2VJZCI6IkNoSUoyZGRsWjVnVnJqc1JoMUJPQWFmLW9ycyIsInBsYWNlTmFtZSI6IkpheWFuYWdhciIsInNob3dNYXAiOmZhbHNlfSx7ImxhdCI6MTIuOTk4MTczMiwibG9uIjo3Ny41NTMwNDQ1OTk5OTk5OSwicGxhY2VJZCI6IkNoSUp4Zlc0RFBNOXJqc1JLc05URy01cF9RUSIsInBsYWNlTmFtZSI6IlJhamFqaW5hZ2FyIiwic2hvd01hcCI6ZmFsc2V9XQ=='\n",
    "page=requests.get(url)\n",
    "soup=BeautifulSoup(page.content)\n",
    "\n",
    "House_title=[]\n",
    "for i in soup.find_all('div', class_=\"nb__jvFlz\"):\n",
    "    House_title.append(i.text)\n",
    "#House_title\n",
    "area=[]\n",
    "for i in soup.find_all('div', class_=\"nb__FfHqA\"):\n",
    "    area.append(i.text)\n",
    "area\n",
    "\n",
    "emi=[]\n",
    "for i in soup.find_all('div', class_=\"nb__2Awq2\"):\n",
    "    emi.append(i.text)\n",
    "emi\n",
    "price=[]\n",
    "for i in soup.find_all('div', class_=\"nb__4L90a\"):\n",
    "    price.append(i.text)\n",
    "\n",
    "price"
   ]
  },
  {
   "cell_type": "markdown",
   "id": "36c9581e",
   "metadata": {},
   "source": [
    "Solution 10"
   ]
  },
  {
   "cell_type": "code",
   "execution_count": 9,
   "id": "cee0790d",
   "metadata": {},
   "outputs": [],
   "source": [
    "import requests\n",
    "from bs4 import BeautifulSoup \n",
    "import pandas as pd\n"
   ]
  },
  {
   "cell_type": "code",
   "execution_count": 8,
   "id": "ecc19c0b",
   "metadata": {},
   "outputs": [],
   "source": [
    "page = requests.get(\"https://www.bewakoof.com/women-tshirts?ga_q=tshirts\")\n"
   ]
  },
  {
   "cell_type": "code",
   "execution_count": 10,
   "id": "901b5da6",
   "metadata": {},
   "outputs": [],
   "source": [
    "soup=BeautifulSoup(page.content)"
   ]
  },
  {
   "cell_type": "code",
   "execution_count": 13,
   "id": "246224ab",
   "metadata": {},
   "outputs": [],
   "source": [
    "# scraping the product name"
   ]
  },
  {
   "cell_type": "code",
   "execution_count": 12,
   "id": "f78c1f67",
   "metadata": {},
   "outputs": [],
   "source": [
    "product_name = [] # creating empty list\n"
   ]
  },
  {
   "cell_type": "code",
   "execution_count": 14,
   "id": "48a10c0f",
   "metadata": {},
   "outputs": [],
   "source": [
    "for i in soup.find_all('div',class_=\"productCardDetail\")[:10]: \n",
    "\n",
    "    product_name.append(i.text)"
   ]
  },
  {
   "cell_type": "code",
   "execution_count": 15,
   "id": "a01c75da",
   "metadata": {},
   "outputs": [],
   "source": [
    "price=[]\n",
    "for k in soup.find_all('span',class_=\"actualPriceText\")[:10]:\n",
    "    price.append(k.text)\n",
    "#product_name\n"
   ]
  },
  {
   "cell_type": "code",
   "execution_count": 19,
   "id": "50c43a48",
   "metadata": {},
   "outputs": [],
   "source": [
    "price\n",
    "\n",
    "image_url = []"
   ]
  },
  {
   "cell_type": "code",
   "execution_count": 21,
   "id": "93b3d682",
   "metadata": {},
   "outputs": [
    {
     "data": {
      "text/html": [
       "<div>\n",
       "<style scoped>\n",
       "    .dataframe tbody tr th:only-of-type {\n",
       "        vertical-align: middle;\n",
       "    }\n",
       "\n",
       "    .dataframe tbody tr th {\n",
       "        vertical-align: top;\n",
       "    }\n",
       "\n",
       "    .dataframe thead th {\n",
       "        text-align: right;\n",
       "    }\n",
       "</style>\n",
       "<table border=\"1\" class=\"dataframe\">\n",
       "  <thead>\n",
       "    <tr style=\"text-align: right;\">\n",
       "      <th></th>\n",
       "      <th>product Name</th>\n",
       "      <th>Image URL</th>\n",
       "    </tr>\n",
       "  </thead>\n",
       "  <tbody>\n",
       "  </tbody>\n",
       "</table>\n",
       "</div>"
      ],
      "text/plain": [
       "Empty DataFrame\n",
       "Columns: [product Name, Image URL]\n",
       "Index: []"
      ]
     },
     "execution_count": 21,
     "metadata": {},
     "output_type": "execute_result"
    }
   ],
   "source": [
    "for i in soup.find_all('img',class_=\"productImgTag\")[:10]: \n",
    "    image_url.append(i.get('src'))  \n",
    "df=pd.DataFrame({'product Name': product_name, 'Image URL': image_url})\n",
    "df"
   ]
  },
  {
   "cell_type": "code",
   "execution_count": null,
   "id": "4b6a5c23",
   "metadata": {},
   "outputs": [],
   "source": []
  }
 ],
 "metadata": {
  "kernelspec": {
   "display_name": "Python 3",
   "language": "python",
   "name": "python3"
  },
  "language_info": {
   "codemirror_mode": {
    "name": "ipython",
    "version": 3
   },
   "file_extension": ".py",
   "mimetype": "text/x-python",
   "name": "python",
   "nbconvert_exporter": "python",
   "pygments_lexer": "ipython3",
   "version": "3.8.8"
  }
 },
 "nbformat": 4,
 "nbformat_minor": 5
}
